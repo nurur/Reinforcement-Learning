{
 "cells": [
  {
   "cell_type": "markdown",
   "metadata": {},
   "source": [
    "# Malti-Arm Bandit : Thompson Sampling"
   ]
  },
  {
   "cell_type": "markdown",
   "metadata": {},
   "source": [
    "Python Reinforcement Learning : Chapter 6"
   ]
  },
  {
   "cell_type": "code",
   "execution_count": 1,
   "metadata": {},
   "outputs": [],
   "source": [
    "import pandas as pd\n",
    "import numpy as np\n",
    "import matplotlib.pyplot as plt\n",
    "import seaborn as sns"
   ]
  },
  {
   "cell_type": "markdown",
   "metadata": {},
   "source": [
    "### Create Bandit Environment"
   ]
  },
  {
   "cell_type": "code",
   "execution_count": 2,
   "metadata": {},
   "outputs": [],
   "source": [
    "import gym\n",
    "import gym_bandits"
   ]
  },
  {
   "cell_type": "code",
   "execution_count": 3,
   "metadata": {},
   "outputs": [],
   "source": [
    "\"\"\"10-armed bandit environment\"\"\"\n",
    "env = gym.make('BanditTenArmedGaussian-v0')"
   ]
  },
  {
   "cell_type": "code",
   "execution_count": 4,
   "metadata": {},
   "outputs": [
    {
     "name": "stdout",
     "output_type": "stream",
     "text": [
      "action space     : Discrete(10)\n",
      "number of bandits: 10\n"
     ]
    }
   ],
   "source": [
    "print(\"action space     :\", env.action_space)\n",
    "print(\"number of bandits:\", env.n_bandits)"
   ]
  },
  {
   "cell_type": "markdown",
   "metadata": {},
   "source": [
    "### Define Parameters"
   ]
  },
  {
   "cell_type": "code",
   "execution_count": 5,
   "metadata": {},
   "outputs": [],
   "source": [
    "number_of_actions = 10\n",
    "number_of_runs = 10000\n",
    "\n",
    "N = np.zeros(number_of_actions)\n",
    "Q = np.zeros(number_of_actions)\n",
    "\n",
    "sum_of_rewards = np.zeros(number_of_actions)\n",
    "\n",
    "a = np.ones(number_of_actions)\n",
    "b = np.ones(number_of_actions)"
   ]
  },
  {
   "cell_type": "code",
   "execution_count": 6,
   "metadata": {},
   "outputs": [],
   "source": [
    "def thompsonSampling(a,b):\n",
    "    actionSample = [np.random.beta(a[i]+1,b[i]+1) for i in range(number_of_actions)]\n",
    "    action = np.argmax(actionSample)\n",
    "    return action"
   ]
  },
  {
   "cell_type": "code",
   "execution_count": 7,
   "metadata": {},
   "outputs": [],
   "source": [
    "action_selected = []\n",
    "\n",
    "for run in range(number_of_runs):\n",
    "    \"\"\"Get the action\"\"\"\n",
    "    action = thompsonSampling(a,b)\n",
    "    \"\"\"Get the reward\"\"\"\n",
    "    observation, reward, done, info = env.step(action)\n",
    "    \n",
    "    N[action] += 1\n",
    "    \n",
    "    sum_of_rewards[action] += reward\n",
    "    Q[action] = sum_of_rewards[action]/N[action]\n",
    "    \n",
    "    action_selected.append(action)\n",
    "    \n",
    "    \"\"\"\n",
    "    if reward is positive, increase alpha\n",
    "    if reward is negative, increase beta\n",
    "    \"\"\"\n",
    "    if reward > 0:\n",
    "        a[action] += 1\n",
    "    else:\n",
    "        b[action] += 1"
   ]
  },
  {
   "cell_type": "code",
   "execution_count": 8,
   "metadata": {},
   "outputs": [
    {
     "name": "stdout",
     "output_type": "stream",
     "text": [
      "[ 5.78032614e+00  6.39378002e+00 -1.46525929e+00  2.41185691e+01\n",
      " -3.11693511e+00  2.03411229e+04 -1.41621779e+00 -7.42280810e-02\n",
      " -2.36048381e-01  1.34913704e+01]\n"
     ]
    }
   ],
   "source": [
    "print( sum_of_rewards )"
   ]
  },
  {
   "cell_type": "code",
   "execution_count": 9,
   "metadata": {},
   "outputs": [
    {
     "name": "stdout",
     "output_type": "stream",
     "text": [
      "[0.8258, 0.6394, -0.2931, 1.0049, -1.5585, 2.0474, -0.7081, -0.0371, -0.236, 1.1243]\n",
      "The optimal action is: 5\n"
     ]
    }
   ],
   "source": [
    "x =  [round(x,4) for x in Q]\n",
    "print( x )\n",
    "print(\"The optimal action is:\", np.argmax(x))"
   ]
  },
  {
   "cell_type": "code",
   "execution_count": 10,
   "metadata": {},
   "outputs": [
    {
     "data": {
      "text/plain": [
       "<seaborn.axisgrid.FacetGrid at 0x12dc1cb20>"
      ]
     },
     "execution_count": 10,
     "metadata": {},
     "output_type": "execute_result"
    },
    {
     "data": {
      "image/png": "[encoded data removed]",
      "text/plain": [
       "<Figure size 360x360 with 1 Axes>"
      ]
     },
     "metadata": {
      "needs_background": "light"
     },
     "output_type": "display_data"
    }
   ],
   "source": [
    "sns.displot(action_selected)"
   ]
  },
  {
   "cell_type": "markdown",
   "metadata": {},
   "source": [
    "### Close Bandit Envirornment"
   ]
  },
  {
   "cell_type": "code",
   "execution_count": 11,
   "metadata": {},
   "outputs": [],
   "source": [
    "env.close()"
   ]
  }
 ],
 "metadata": {
  "kernelspec": {
   "display_name": "Python 3",
   "language": "python",
   "name": "python3"
  },
  "language_info": {
   "codemirror_mode": {
    "name": "ipython",
    "version": 3
   },
   "file_extension": ".py",
   "mimetype": "text/x-python",
   "name": "python",
   "nbconvert_exporter": "python",
   "pygments_lexer": "ipython3",
   "version": "3.9.2"
  }
 },
 "nbformat": 4,
 "nbformat_minor": 4
}
