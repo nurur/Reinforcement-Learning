{
 "cells": [
  {
   "cell_type": "markdown",
   "metadata": {},
   "source": [
    "# Malti-Arm Bandit : Simulation"
   ]
  },
  {
   "cell_type": "markdown",
   "metadata": {},
   "source": [
    "Python Reinforcement Learning : Chapter 6"
   ]
  },
  {
   "cell_type": "code",
   "execution_count": 1,
   "metadata": {},
   "outputs": [],
   "source": [
    "import pandas as pd\n",
    "import numpy as np\n",
    "import matplotlib.pyplot as plt\n",
    "import seaborn as sns"
   ]
  },
  {
   "cell_type": "markdown",
   "metadata": {},
   "source": [
    "#### Create Reward Distribution"
   ]
  },
  {
   "cell_type": "code",
   "execution_count": 3,
   "metadata": {},
   "outputs": [],
   "source": [
    "\"\"\"Bernouli Reward\"\"\"\n",
    "df = pd.DataFrame()\n",
    "df[\"BannerType_00\"] = np.random.randint(0,2,10000)\n",
    "df[\"BannerType_01\"] = np.random.randint(0,2,10000)\n",
    "df[\"BannerType_02\"] = np.random.randint(0,2,10000)\n",
    "df[\"BannerType_03\"] = np.random.randint(0,2,10000)\n",
    "df[\"BannerType_04\"] = np.random.randint(0,2,10000)"
   ]
  },
  {
   "cell_type": "code",
   "execution_count": 4,
   "metadata": {},
   "outputs": [
    {
     "data": {
      "text/html": [
       "<div>\n",
       "<style scoped>\n",
       "    .dataframe tbody tr th:only-of-type {\n",
       "        vertical-align: middle;\n",
       "    }\n",
       "\n",
       "    .dataframe tbody tr th {\n",
       "        vertical-align: top;\n",
       "    }\n",
       "\n",
       "    .dataframe thead th {\n",
       "        text-align: right;\n",
       "    }\n",
       "</style>\n",
       "<table border=\"1\" class=\"dataframe\">\n",
       "  <thead>\n",
       "    <tr style=\"text-align: right;\">\n",
       "      <th></th>\n",
       "      <th>BannerType_00</th>\n",
       "      <th>BannerType_01</th>\n",
       "      <th>BannerType_02</th>\n",
       "      <th>BannerType_03</th>\n",
       "      <th>BannerType_04</th>\n",
       "    </tr>\n",
       "  </thead>\n",
       "  <tbody>\n",
       "    <tr>\n",
       "      <th>0</th>\n",
       "      <td>0</td>\n",
       "      <td>0</td>\n",
       "      <td>0</td>\n",
       "      <td>0</td>\n",
       "      <td>1</td>\n",
       "    </tr>\n",
       "    <tr>\n",
       "      <th>1</th>\n",
       "      <td>0</td>\n",
       "      <td>1</td>\n",
       "      <td>0</td>\n",
       "      <td>0</td>\n",
       "      <td>1</td>\n",
       "    </tr>\n",
       "    <tr>\n",
       "      <th>2</th>\n",
       "      <td>1</td>\n",
       "      <td>1</td>\n",
       "      <td>0</td>\n",
       "      <td>1</td>\n",
       "      <td>0</td>\n",
       "    </tr>\n",
       "    <tr>\n",
       "      <th>3</th>\n",
       "      <td>0</td>\n",
       "      <td>0</td>\n",
       "      <td>0</td>\n",
       "      <td>1</td>\n",
       "      <td>0</td>\n",
       "    </tr>\n",
       "    <tr>\n",
       "      <th>4</th>\n",
       "      <td>1</td>\n",
       "      <td>1</td>\n",
       "      <td>1</td>\n",
       "      <td>1</td>\n",
       "      <td>0</td>\n",
       "    </tr>\n",
       "  </tbody>\n",
       "</table>\n",
       "</div>"
      ],
      "text/plain": [
       "   BannerType_00  BannerType_01  BannerType_02  BannerType_03  BannerType_04\n",
       "0              0              0              0              0              1\n",
       "1              0              1              0              0              1\n",
       "2              1              1              0              1              0\n",
       "3              0              0              0              1              0\n",
       "4              1              1              1              1              0"
      ]
     },
     "execution_count": 4,
     "metadata": {},
     "output_type": "execute_result"
    }
   ],
   "source": [
    "df.head(5)"
   ]
  },
  {
   "cell_type": "markdown",
   "metadata": {},
   "source": [
    "#### Define Parameters"
   ]
  },
  {
   "cell_type": "code",
   "execution_count": 5,
   "metadata": {},
   "outputs": [],
   "source": [
    "number_of_banners = 5\n",
    "number_of_runs = 10000\n",
    "\n",
    "N = np.zeros(number_of_banners)\n",
    "Q = np.zeros(number_of_banners)\n",
    "\n",
    "sum_of_rewards = np.zeros(number_of_banners)\n",
    "banner_selected = []"
   ]
  },
  {
   "cell_type": "code",
   "execution_count": 6,
   "metadata": {},
   "outputs": [],
   "source": [
    "def epsionGreedy(eps):\n",
    "    prb = np.random.random()\n",
    "    if prb <= eps:\n",
    "        action = np.random.choice(number_of_banners)\n",
    "    else:\n",
    "        action = np.argmax(Q)\n",
    "    return action"
   ]
  },
  {
   "cell_type": "code",
   "execution_count": 7,
   "metadata": {},
   "outputs": [],
   "source": [
    "for run in range(number_of_runs):\n",
    "    \"\"\"Get the action\"\"\"\n",
    "    banner = epsionGreedy(0.75)\n",
    "    \"\"\"Get the reward\"\"\"\n",
    "    reward = df.values[run, banner]\n",
    "    \n",
    "    N[banner] += 1\n",
    "    \n",
    "    sum_of_rewards[banner] += reward\n",
    "    Q[banner] = sum_of_rewards[banner]/N[banner]\n",
    "    \n",
    "    banner_selected.append(banner)\n",
    "    "
   ]
  },
  {
   "cell_type": "code",
   "execution_count": 8,
   "metadata": {},
   "outputs": [
    {
     "name": "stdout",
     "output_type": "stream",
     "text": [
      "[ 744.  764. 1103.  744. 1631.]\n"
     ]
    }
   ],
   "source": [
    "print( sum_of_rewards )"
   ]
  },
  {
   "cell_type": "code",
   "execution_count": 9,
   "metadata": {},
   "outputs": [
    {
     "name": "stdout",
     "output_type": "stream",
     "text": [
      "[0.501, 0.4805, 0.5046, 0.4898, 0.5065]\n"
     ]
    }
   ],
   "source": [
    "print( [round(x,4) for x in Q] )"
   ]
  },
  {
   "cell_type": "code",
   "execution_count": 10,
   "metadata": {},
   "outputs": [
    {
     "data": {
      "text/plain": [
       "<seaborn.axisgrid.FacetGrid at 0x108770f70>"
      ]
     },
     "execution_count": 10,
     "metadata": {},
     "output_type": "execute_result"
    },
    {
     "data": {
      "image/png": "[encoded data removed]",
      "text/plain": [
       "<Figure size 360x360 with 1 Axes>"
      ]
     },
     "metadata": {
      "needs_background": "light"
     },
     "output_type": "display_data"
    }
   ],
   "source": [
    "sns.displot(banner_selected)"
   ]
  },
  {
   "cell_type": "code",
   "execution_count": 11,
   "metadata": {},
   "outputs": [],
   "source": [
    "number_of_banners = 5\n",
    "number_of_runs = 10000\n",
    "\n",
    "N = np.zeros(number_of_banners)\n",
    "Q = np.zeros(number_of_banners)\n",
    "\n",
    "sum_of_rewards = np.zeros(number_of_banners)\n",
    "banner_selected = []"
   ]
  },
  {
   "cell_type": "code",
   "execution_count": 12,
   "metadata": {},
   "outputs": [],
   "source": [
    "def epsionGreedy(eps, number_of_banners, Q):\n",
    "    prb = np.random.random()\n",
    "    if prb <= eps:\n",
    "        action = np.random.choice(number_of_banners)\n",
    "    else:\n",
    "        action = np.argmax(Q)\n",
    "    return action"
   ]
  },
  {
   "cell_type": "code",
   "execution_count": 13,
   "metadata": {},
   "outputs": [],
   "source": [
    "for run in range(number_of_runs):\n",
    "    \"\"\"Get the action\"\"\"\n",
    "    banner = epsionGreedy(0.75, number_of_banners, Q)\n",
    "    \"\"\"Get the reward\"\"\"\n",
    "    reward = df.values[run, banner]\n",
    "    \n",
    "    N[banner] += 1\n",
    "    Q[banner] += (reward-Q[banner])/N[banner]\n",
    "    \n",
    "    sum_of_rewards[banner] += reward\n",
    "    banner_selected.append(banner)"
   ]
  },
  {
   "cell_type": "code",
   "execution_count": 14,
   "metadata": {},
   "outputs": [
    {
     "name": "stdout",
     "output_type": "stream",
     "text": [
      "[ 760.  793. 1341.  989. 1140.]\n"
     ]
    }
   ],
   "source": [
    "print( sum_of_rewards ) "
   ]
  },
  {
   "cell_type": "code",
   "execution_count": 15,
   "metadata": {},
   "outputs": [
    {
     "data": {
      "text/plain": [
       "<seaborn.axisgrid.FacetGrid at 0x1255a1580>"
      ]
     },
     "execution_count": 15,
     "metadata": {},
     "output_type": "execute_result"
    },
    {
     "data": {
      "image/png": "[encoded data removed]",
      "text/plain": [
       "<Figure size 360x360 with 1 Axes>"
      ]
     },
     "metadata": {
      "needs_background": "light"
     },
     "output_type": "display_data"
    }
   ],
   "source": [
    "sns.displot(banner_selected)"
   ]
  },
  {
   "cell_type": "code",
   "execution_count": 16,
   "metadata": {},
   "outputs": [
    {
     "data": {
      "text/plain": [
       "[0.48, 0.49, 0.53, 0.5, 0.5]"
      ]
     },
     "execution_count": 16,
     "metadata": {},
     "output_type": "execute_result"
    }
   ],
   "source": [
    "[round(x,2) for x in Q]"
   ]
  },
  {
   "cell_type": "code",
   "execution_count": 17,
   "metadata": {},
   "outputs": [
    {
     "name": "stdout",
     "output_type": "stream",
     "text": [
      "[1572. 1626. 2554. 1975. 2273.]\n"
     ]
    }
   ],
   "source": [
    "print(N)"
   ]
  }
 ],
 "metadata": {
  "kernelspec": {
   "display_name": "Python 3",
   "language": "python",
   "name": "python3"
  },
  "language_info": {
   "codemirror_mode": {
    "name": "ipython",
    "version": 3
   },
   "file_extension": ".py",
   "mimetype": "text/x-python",
   "name": "python",
   "nbconvert_exporter": "python",
   "pygments_lexer": "ipython3",
   "version": "3.9.2"
  }
 },
 "nbformat": 4,
 "nbformat_minor": 4
}
