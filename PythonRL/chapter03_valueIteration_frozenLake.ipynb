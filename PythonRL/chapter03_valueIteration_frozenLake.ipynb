{
 "cells": [
  {
   "cell_type": "markdown",
   "metadata": {},
   "source": [
    "# Reinforcement Learning : Value Iteration"
   ]
  },
  {
   "cell_type": "markdown",
   "metadata": {},
   "source": [
    "Python Reinforcement Learning \n",
    "\n",
    "Chapter 03"
   ]
  },
  {
   "cell_type": "markdown",
   "metadata": {},
   "source": [
    "# Frozen Lake"
   ]
  },
  {
   "cell_type": "markdown",
   "metadata": {},
   "source": [
    "![title](../images/fig_frozenlake_statespace.png)"
   ]
  },
  {
   "cell_type": "markdown",
   "metadata": {},
   "source": [
    "#### Actions :\n",
    "\n",
    "[0,1,2,3] = [Left, Down, Right, Up]"
   ]
  },
  {
   "cell_type": "code",
   "execution_count": 2,
   "metadata": {},
   "outputs": [],
   "source": [
    "\"\"\"import libraries\"\"\"\n",
    "import gym\n",
    "import numpy as np"
   ]
  },
  {
   "cell_type": "code",
   "execution_count": 3,
   "metadata": {},
   "outputs": [],
   "source": [
    "\"\"\"create a simulation instance using make function\"\"\"\n",
    "env = gym.make('FrozenLake-v0', is_slippery=True)"
   ]
  },
  {
   "cell_type": "code",
   "execution_count": 4,
   "metadata": {},
   "outputs": [
    {
     "data": {
      "text/plain": [
       "0"
      ]
     },
     "execution_count": 4,
     "metadata": {},
     "output_type": "execute_result"
    }
   ],
   "source": [
    "\"\"\"initialize the environemnt using reset method\"\"\"\n",
    "env.reset()"
   ]
  },
  {
   "cell_type": "code",
   "execution_count": 5,
   "metadata": {},
   "outputs": [
    {
     "name": "stdout",
     "output_type": "stream",
     "text": [
      "\n",
      "\u001b[41mS\u001b[0mFFF\n",
      "FHFH\n",
      "FFFH\n",
      "HFFG\n"
     ]
    }
   ],
   "source": [
    "\"\"\"create the enviroment using render method\"\"\"\n",
    "\"\"\"returns a popup window display of the environment\"\"\"\n",
    "env.render()"
   ]
  },
  {
   "cell_type": "code",
   "execution_count": 6,
   "metadata": {},
   "outputs": [
    {
     "name": "stdout",
     "output_type": "stream",
     "text": [
      "observation space: Discrete(16)\n",
      "state space  : 16\n",
      "state sample : 8\n"
     ]
    }
   ],
   "source": [
    "print('observation space:', env.observation_space )\n",
    "print('state space  :', env.observation_space.n )\n",
    "print('state sample :', env.observation_space.sample() )"
   ]
  },
  {
   "cell_type": "code",
   "execution_count": 7,
   "metadata": {},
   "outputs": [
    {
     "name": "stdout",
     "output_type": "stream",
     "text": [
      "action_space: Discrete(4)\n",
      "action space  : 4\n",
      "action sample : 3\n"
     ]
    }
   ],
   "source": [
    "print('action_space:', env.action_space )\n",
    "print('action space  :', env.action_space.n)\n",
    "print('action sample :', env.action_space.sample())"
   ]
  },
  {
   "cell_type": "markdown",
   "metadata": {},
   "source": [
    "## Value Iteration"
   ]
  },
  {
   "cell_type": "markdown",
   "metadata": {},
   "source": [
    "#### Method 1"
   ]
  },
  {
   "cell_type": "code",
   "execution_count": 8,
   "metadata": {},
   "outputs": [],
   "source": [
    "def value_iteration(env, gamma=1.0):\n",
    "    number_of_iter = 10000\n",
    "    epsilon = 1.0E-06\n",
    "    statevalue_table = np.zeros( env.observation_space.n )\n",
    "    \n",
    "    for iter in range(number_of_iter):\n",
    "        updated_statevalue_table = np.copy( statevalue_table )\n",
    "        \n",
    "        for state in range(env.observation_space.n):\n",
    "            Q_value = []\n",
    "            \n",
    "            for action in range(env.action_space.n):\n",
    "                prob_state_reward = []\n",
    "                \n",
    "                for pr_ns_re in env.P[state][action]:\n",
    "                    trans_prob, nextstate, reward, done = pr_ns_re\n",
    "                    q = trans_prob * (reward + gamma * updated_statevalue_table[nextstate])\n",
    "                    prob_state_reward.append( q )\n",
    "                    \n",
    "                Q_value.append( np.sum(prob_state_reward) )\n",
    "            statevalue_table[state] = max( Q_value ) \n",
    "            \n",
    "        delta = np.sum( np.abs(updated_statevalue_table - statevalue_table) )\n",
    "        if delta <= epsilon: \n",
    "            print(\"Value Iteration Converged at Step :\", iter+1)\n",
    "            print(\"Breaking out of the Loop ... ... ..\")\n",
    "            break\n",
    "                \n",
    "    return statevalue_table"
   ]
  },
  {
   "cell_type": "code",
   "execution_count": 9,
   "metadata": {},
   "outputs": [
    {
     "name": "stdout",
     "output_type": "stream",
     "text": [
      "Value Iteration Converged at Step : 502\n",
      "Breaking out of the Loop ... ... ..\n",
      "[0.8235, 0.8235, 0.8235, 0.8235, 0.8235, 0.0, 0.5294, 0.0, 0.8235, 0.8235, 0.7647, 0.0, 0.0, 0.8824, 0.9412, 0.0]\n"
     ]
    }
   ],
   "source": [
    "value_table = value_iteration(env, gamma=1.0)\n",
    "print( [round(x,4) for x in value_table ] )"
   ]
  },
  {
   "cell_type": "code",
   "execution_count": 10,
   "metadata": {},
   "outputs": [],
   "source": [
    "def extract_policy(value_table, gamma=1.0):\n",
    "    policy_table = np.zeros( env.observation_space.n)\n",
    "    \n",
    "    for state in range(env.observation_space.n):\n",
    "        Q_table = np.zeros( env.action_space.n )\n",
    "        \n",
    "        for action in range( env.action_space.n):\n",
    "            for pr_ns_re in env.P[state][action]:\n",
    "                trans_prob, nextstate, reward, done = pr_ns_re\n",
    "                q = trans_prob * (reward + gamma * value_table[nextstate])\n",
    "                Q_table[action] += q\n",
    "                \n",
    "        policy_table[state] = np.argmax(Q_table)\n",
    "        \n",
    "    return policy_table"
   ]
  },
  {
   "cell_type": "code",
   "execution_count": 10,
   "metadata": {},
   "outputs": [
    {
     "name": "stdout",
     "output_type": "stream",
     "text": [
      "[0. 3. 3. 3. 0. 0. 0. 0. 3. 1. 0. 0. 0. 2. 1. 0.]\n"
     ]
    }
   ],
   "source": [
    "optimal_policy = extract_policy(value_table, gamma=1.0)\n",
    "print(optimal_policy)"
   ]
  },
  {
   "cell_type": "markdown",
   "metadata": {},
   "source": [
    "#### Method 2"
   ]
  },
  {
   "cell_type": "code",
   "execution_count": 11,
   "metadata": {},
   "outputs": [],
   "source": [
    "def value_iteration(env, gamma=1.0):\n",
    "    number_of_iter = 10000\n",
    "    epsilon = 1.0E-06\n",
    "    value_table  = np.zeros( env.observation_space.n )\n",
    "    policy_table = np.zeros( env.observation_space.n )\n",
    "    \n",
    "    for iter in range(number_of_iter):\n",
    "        updated_value_table = np.copy( value_table )\n",
    "        \n",
    "        for state in range(env.observation_space.n):\n",
    "            Q_value = np.zeros(env.action_space.n)\n",
    "            \n",
    "            for action in range(env.action_space.n):\n",
    "                \n",
    "                for pr_ns_re in env.P[state][action]:\n",
    "                    trans_prob, nextstate, reward, done = pr_ns_re\n",
    "                    q = trans_prob * (reward + gamma * updated_value_table[nextstate])\n",
    "                    Q_value[action] += q\n",
    "                    \n",
    "            policy_table[state] = np.argmax(Q_value)\n",
    "            value_table[state]  = Q_value[ np.argmax(Q_value) ] \n",
    "            \n",
    "        delta = np.sum( np.abs(updated_value_table - value_table) )\n",
    "        if delta <= epsilon: \n",
    "            print(\"Value Iteration Converged at Step :\", iter+1)\n",
    "            print(\"Breaking out of the Loop ... ... ..\")\n",
    "            break\n",
    "                \n",
    "    return value_table, policy_table"
   ]
  },
  {
   "cell_type": "code",
   "execution_count": 12,
   "metadata": {},
   "outputs": [
    {
     "name": "stdout",
     "output_type": "stream",
     "text": [
      "Value Iteration Converged at Step : 502\n",
      "Breaking out of the Loop ... ... ..\n",
      "[0.8235, 0.8235, 0.8235, 0.8235, 0.8235, 0.0, 0.5294, 0.0, 0.8235, 0.8235, 0.7647, 0.0, 0.0, 0.8824, 0.9412, 0.0]\n",
      "[0. 3. 3. 3. 0. 0. 0. 0. 3. 1. 0. 0. 0. 2. 1. 0.]\n"
     ]
    }
   ],
   "source": [
    "value_table, policy_table = value_iteration(env, gamma=1.0)\n",
    "print( [round(x,4) for x in value_table ] )\n",
    "print(optimal_policy)"
   ]
  },
  {
   "cell_type": "code",
   "execution_count": 13,
   "metadata": {},
   "outputs": [],
   "source": [
    "env.close()"
   ]
  }
 ],
 "metadata": {
  "kernelspec": {
   "display_name": "Python 3",
   "language": "python",
   "name": "python3"
  },
  "language_info": {
   "codemirror_mode": {
    "name": "ipython",
    "version": 3
   },
   "file_extension": ".py",
   "mimetype": "text/x-python",
   "name": "python",
   "nbconvert_exporter": "python",
   "pygments_lexer": "ipython3",
   "version": "3.9.2"
  }
 },
 "nbformat": 4,
 "nbformat_minor": 4
}
