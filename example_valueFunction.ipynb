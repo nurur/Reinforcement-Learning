{
 "cells": [
  {
   "cell_type": "markdown",
   "metadata": {},
   "source": [
    "# Markov Process\n",
    "\n",
    "# Markov Reward Process\n",
    "\n",
    "# Markove Decision Process"
   ]
  },
  {
   "cell_type": "code",
   "execution_count": 1,
   "metadata": {},
   "outputs": [],
   "source": [
    "import pandas as pd\n",
    "import numpy as np\n",
    "from scipy import linalg"
   ]
  },
  {
   "cell_type": "markdown",
   "metadata": {},
   "source": [
    "## MRP"
   ]
  },
  {
   "cell_type": "markdown",
   "metadata": {},
   "source": [
    "#### Example 1a"
   ]
  },
  {
   "cell_type": "code",
   "execution_count": 2,
   "metadata": {},
   "outputs": [
    {
     "name": "stdout",
     "output_type": "stream",
     "text": [
      "['S1' 'S2' 'S3']\n",
      "[[1. 0. 0.]\n",
      " [0. 1. 0.]\n",
      " [0. 0. 1.]]\n",
      " \n",
      "[[0. 1. 0.]\n",
      " [0. 0. 1.]\n",
      " [0. 0. 1.]]\n"
     ]
    },
    {
     "data": {
      "text/plain": [
       "[4.0, 5.0, 0.0]"
      ]
     },
     "execution_count": 2,
     "metadata": {},
     "output_type": "execute_result"
    }
   ],
   "source": [
    "S = ['S1', 'S2', 'S3']\n",
    "S = np.array(S)\n",
    "print(S)\n",
    "\n",
    "R = [-1, 5, 0]\n",
    "R = np.array(R)\n",
    "\n",
    "dln = len(S)\n",
    "I = np.ones(dln*dln).reshape((dln,dln))\n",
    "I = np.diag( np.diag(I) )\n",
    "print(I)\n",
    "print(' ')\n",
    "\n",
    "PSS = [[0.0,1.0,0.0],\n",
    "       [0.0,0.0,1.0],\n",
    "       [0.0,0.0,1.0]]\n",
    "PSS = np.array(PSS)\n",
    "print(PSS)\n",
    "\n",
    "DF = 0.999999\n",
    "A = I - DF*PSS\n",
    "\n",
    "sval = linalg.solve(A,R)\n",
    "sval = sval.tolist()\n",
    "[round(x,2) for x in sval]"
   ]
  },
  {
   "cell_type": "markdown",
   "metadata": {},
   "source": [
    "#### Example 1b"
   ]
  },
  {
   "cell_type": "code",
   "execution_count": 3,
   "metadata": {},
   "outputs": [
    {
     "name": "stdout",
     "output_type": "stream",
     "text": [
      "['S1' 'S2' 'S3']\n",
      "[[1. 0. 0.]\n",
      " [0. 1. 0.]\n",
      " [0. 0. 1.]]\n",
      " \n",
      "[[0.  1.  0. ]\n",
      " [0.  0.3 0.7]\n",
      " [0.  0.  1. ]]\n"
     ]
    },
    {
     "data": {
      "text/plain": [
       "[6.14, 7.14, 0.0]"
      ]
     },
     "execution_count": 3,
     "metadata": {},
     "output_type": "execute_result"
    }
   ],
   "source": [
    "S = ['S1', 'S2', 'S3']\n",
    "S = np.array(S)\n",
    "print(S)\n",
    "\n",
    "R = [-1, 5, 0]\n",
    "R = np.array(R)\n",
    "\n",
    "dln = len(S)\n",
    "I = np.ones(dln*dln).reshape((dln,dln))\n",
    "I = np.diag( np.diag(I) )\n",
    "print(I)\n",
    "print(' ')\n",
    "\n",
    "PSS = [[0.0,1.0,0.0],\n",
    "       [0.0,0.3,0.7],\n",
    "       [0.0,0.0,1.0]]\n",
    "PSS = np.array(PSS)\n",
    "print(PSS)\n",
    "\n",
    "DF = 0.9999\n",
    "A = I - DF*PSS\n",
    "\n",
    "sval = linalg.solve(A,R)\n",
    "sval = sval.tolist()\n",
    "[round(x,2) for x in sval]"
   ]
  },
  {
   "cell_type": "code",
   "execution_count": 4,
   "metadata": {},
   "outputs": [
    {
     "name": "stdout",
     "output_type": "stream",
     "text": [
      "state 1: 5.499200015\n",
      "state 2: 6.49985\n"
     ]
    }
   ],
   "source": [
    "\"\"\"Check: Sampling episods\"\"\"\n",
    "s1 = 7\n",
    "s2 = 3\n",
    "g = 0.9999\n",
    "\"\"\"state 1\"\"\"\n",
    "a = -1 + g*5 + (g**2)*0\n",
    "b = -1 + g*5 + (g**2)*5 + (g**3)*0\n",
    "print('state 1:', (s1*a + s2*b)/(s1+s2) )\n",
    "\n",
    "\"\"\"state 2\"\"\"\n",
    "a = 5 + g*0\n",
    "b = 5 + g*5 + (g**2)*0 \n",
    "print('state 2:', (s1*a + s2*b)/(s1+s2) )"
   ]
  },
  {
   "cell_type": "markdown",
   "metadata": {},
   "source": [
    "#### Eample 1c"
   ]
  },
  {
   "cell_type": "code",
   "execution_count": 5,
   "metadata": {},
   "outputs": [
    {
     "name": "stdout",
     "output_type": "stream",
     "text": [
      "['S1' 'S2' 'S3']\n",
      "[[1. 0. 0.]\n",
      " [0. 1. 0.]\n",
      " [0. 0. 1.]]\n",
      " \n",
      "[[0.  1.  0. ]\n",
      " [0.3 0.  0.7]\n",
      " [0.  0.  1. ]]\n"
     ]
    },
    {
     "data": {
      "text/plain": [
       "[5.71, 6.71, 0.0]"
      ]
     },
     "execution_count": 5,
     "metadata": {},
     "output_type": "execute_result"
    }
   ],
   "source": [
    "S = ['S1', 'S2', 'S3']\n",
    "S = np.array(S)\n",
    "print(S)\n",
    "\n",
    "R = [-1, 5, 0]\n",
    "R = np.array(R)\n",
    "\n",
    "dln = len(S)\n",
    "I = np.ones(dln*dln).reshape((dln,dln))\n",
    "I = np.diag( np.diag(I) )\n",
    "print(I)\n",
    "print(' ')\n",
    "\n",
    "PSS = [[0.0,1.0,0.0],\n",
    "       [0.3,0.0,0.7],\n",
    "       [0.0,0.0,1.0]]\n",
    "PSS = np.array(PSS)\n",
    "print(PSS)\n",
    "\n",
    "DF = 0.9999\n",
    "A = I - DF*PSS\n",
    "\n",
    "sval = linalg.solve(A,R)\n",
    "sval = sval.tolist()\n",
    "[round(x,2) for x in sval]"
   ]
  },
  {
   "cell_type": "markdown",
   "metadata": {},
   "source": [
    "#### Eample 1d"
   ]
  },
  {
   "cell_type": "code",
   "execution_count": 6,
   "metadata": {},
   "outputs": [
    {
     "name": "stdout",
     "output_type": "stream",
     "text": [
      "['S1' 'S2' 'S3']\n",
      "[[1. 0. 0.]\n",
      " [0. 1. 0.]\n",
      " [0. 0. 1.]]\n",
      " \n",
      "[[0.1 0.9 0. ]\n",
      " [0.1 0.2 0.7]\n",
      " [0.  0.  1. ]]\n"
     ]
    },
    {
     "data": {
      "text/plain": [
       "[5.9, 7.0, 0.0]"
      ]
     },
     "execution_count": 6,
     "metadata": {},
     "output_type": "execute_result"
    }
   ],
   "source": [
    "S = ['S1', 'S2', 'S3']\n",
    "S = np.array(S)\n",
    "print(S)\n",
    "\n",
    "R = [-1, 5, 0]\n",
    "R = np.array(R)\n",
    "\n",
    "dln = len(S)\n",
    "I = np.ones(dln*dln).reshape((dln,dln))\n",
    "I = np.diag( np.diag(I) )\n",
    "print(I)\n",
    "print(' ')\n",
    "\n",
    "PSS = [[0.1,0.9,0.0],\n",
    "       [0.1,0.2,0.7],\n",
    "       [0.0,0.0,1.0]]\n",
    "PSS = np.array(PSS)\n",
    "print(PSS)\n",
    "\n",
    "DF = 0.9999\n",
    "A = I - DF*PSS\n",
    "\n",
    "sval = linalg.solve(A,R)\n",
    "sval = sval.tolist()\n",
    "[round(x,1) for x in sval]"
   ]
  },
  {
   "cell_type": "markdown",
   "metadata": {},
   "source": [
    "#### Example 2"
   ]
  },
  {
   "cell_type": "code",
   "execution_count": 7,
   "metadata": {},
   "outputs": [
    {
     "data": {
      "text/plain": [
       "[6.87, 8.12, 0.0]"
      ]
     },
     "execution_count": 7,
     "metadata": {},
     "output_type": "execute_result"
    }
   ],
   "source": [
    "PSS = [[0.2,0.8,0.0],\n",
    "       [0.1,0.3,0.6],\n",
    "       [0.0,0.0,1.0]]\n",
    "PSS = np.array(PSS)\n",
    "\n",
    "DF = 0.9999\n",
    "A = I - DF*PSS\n",
    "\n",
    "sval = linalg.solve(A,R)\n",
    "sval = sval.tolist()\n",
    "[round(x,2) for x in sval]"
   ]
  },
  {
   "cell_type": "markdown",
   "metadata": {},
   "source": [
    "#### Example 3"
   ]
  },
  {
   "cell_type": "code",
   "execution_count": 8,
   "metadata": {},
   "outputs": [],
   "source": [
    "S = ['C1', 'C2', 'C3', 'FB', 'PUB', 'PASS', 'SLEEP']\n",
    "S = np.array(S)\n",
    "\n",
    "R = [-2, -2, -2, -1, 1, 10, 0]\n",
    "R = np.array(R)\n",
    "\n",
    "dln = len(S)\n",
    "I = np.ones(dln*dln).reshape(dln,dln)\n",
    "I = np.diag( np.diag(I) )"
   ]
  },
  {
   "cell_type": "code",
   "execution_count": 9,
   "metadata": {},
   "outputs": [],
   "source": [
    "PSS = [[0.0,0.5,0.0,0.5,0.0,0.0,0.0],\n",
    "       [0.0,0.0,0.8,0.0,0.0,0.0,0.2],\n",
    "       [0.0,0.0,0.0,0.0,0.4,0.6,0.0],\n",
    "       [0.1,0.0,0.0,0.9,0.0,0.0,0.0],\n",
    "       [0.2,0.4,0.4,0.0,0.0,0.0,0.0],\n",
    "       [0.0,0.0,0.0,0.0,0.0,0.0,1.0],\n",
    "       [0.0,0.0,0.0,0.0,0.0,0.0,1.0]]\n",
    "PSS = np.array(PSS)"
   ]
  },
  {
   "cell_type": "code",
   "execution_count": 10,
   "metadata": {},
   "outputs": [
    {
     "data": {
      "text/plain": [
       "[-12.5, 1.5, 4.3, -22.5, 0.8, 10.0, 0.0]"
      ]
     },
     "execution_count": 10,
     "metadata": {},
     "output_type": "execute_result"
    }
   ],
   "source": [
    "DF = 0.9999\n",
    "A = I - DF*PSS\n",
    "\n",
    "sval = linalg.solve(A,R)\n",
    "sval = sval.tolist()\n",
    "[round(x,1) for x in sval]"
   ]
  },
  {
   "cell_type": "markdown",
   "metadata": {},
   "source": [
    "#### Example 4"
   ]
  },
  {
   "cell_type": "code",
   "execution_count": 11,
   "metadata": {},
   "outputs": [],
   "source": [
    "S = ['S1', 'S2', 'WIN', 'TEL', 'PAUSE', 'STOP']\n",
    "S = np.array(S)"
   ]
  },
  {
   "cell_type": "code",
   "execution_count": 12,
   "metadata": {},
   "outputs": [],
   "source": [
    "R = [-2,-2, 10, 1,-1,0]\n",
    "R = np.array(R)"
   ]
  },
  {
   "cell_type": "code",
   "execution_count": 13,
   "metadata": {},
   "outputs": [
    {
     "name": "stdout",
     "output_type": "stream",
     "text": [
      "[[1. 0. 0. 0. 0. 0.]\n",
      " [0. 1. 0. 0. 0. 0.]\n",
      " [0. 0. 1. 0. 0. 0.]\n",
      " [0. 0. 0. 1. 0. 0.]\n",
      " [0. 0. 0. 0. 1. 0.]\n",
      " [0. 0. 0. 0. 0. 1.]]\n"
     ]
    }
   ],
   "source": [
    "dln = len(S)\n",
    "I = np.ones(dln*dln).reshape(dln,dln)\n",
    "I = np.diag( np.diag(I) )\n",
    "print(I)"
   ]
  },
  {
   "cell_type": "code",
   "execution_count": 14,
   "metadata": {},
   "outputs": [],
   "source": [
    "PSS = [[0.0,0.8,0.0,0.0,0.2,0.0],\n",
    "       [0.0,0.0,0.7,0.2,0.0,0.1],\n",
    "       [0.0,0.0,0.0,0.0,0.0,1.0],\n",
    "       [0.6,0.4,0.0,0.0,0.0,0.0],\n",
    "       [0.7,0.0,0.0,0.0,0.3,0.0],\n",
    "       [0.0,0.0,0.0,0.0,0.0,1.0]]\n",
    "PSS = np.array(PSS)"
   ]
  },
  {
   "cell_type": "code",
   "execution_count": 15,
   "metadata": {},
   "outputs": [],
   "source": [
    "DF = 0.9999\n",
    "A = I - DF*PSS"
   ]
  },
  {
   "cell_type": "code",
   "execution_count": 16,
   "metadata": {},
   "outputs": [
    {
     "data": {
      "text/plain": [
       "[3.2, 6.1, 10.0, 5.4, 1.8, 0.0]"
      ]
     },
     "execution_count": 16,
     "metadata": {},
     "output_type": "execute_result"
    }
   ],
   "source": [
    "sval = linalg.solve(A,R)\n",
    "sval = sval.tolist()\n",
    "[round(x,1) for x in sval]"
   ]
  },
  {
   "cell_type": "markdown",
   "metadata": {},
   "source": [
    "#### Example 5"
   ]
  },
  {
   "cell_type": "code",
   "execution_count": 17,
   "metadata": {},
   "outputs": [],
   "source": [
    "S = ['S1', 'S2', 'S3', 'S4', 'S5', 'S6']\n",
    "S = np.array(S)"
   ]
  },
  {
   "cell_type": "code",
   "execution_count": 18,
   "metadata": {},
   "outputs": [],
   "source": [
    "R = [1,1,1,1,0,0]\n",
    "R = np.array(R)"
   ]
  },
  {
   "cell_type": "code",
   "execution_count": 19,
   "metadata": {},
   "outputs": [
    {
     "name": "stdout",
     "output_type": "stream",
     "text": [
      "[[1. 0. 0. 0. 0. 0.]\n",
      " [0. 1. 0. 0. 0. 0.]\n",
      " [0. 0. 1. 0. 0. 0.]\n",
      " [0. 0. 0. 1. 0. 0.]\n",
      " [0. 0. 0. 0. 1. 0.]\n",
      " [0. 0. 0. 0. 0. 1.]]\n"
     ]
    }
   ],
   "source": [
    "dln = len(R)\n",
    "I = np.ones(dln*dln).reshape(dln,dln)\n",
    "I = np.diag( np.diag(I) )\n",
    "print(I)"
   ]
  },
  {
   "cell_type": "code",
   "execution_count": 20,
   "metadata": {},
   "outputs": [
    {
     "data": {
      "text/plain": [
       "[5.05, 5.05, 3.62, 1.0, 0.0, 0.0]"
      ]
     },
     "execution_count": 20,
     "metadata": {},
     "output_type": "execute_result"
    }
   ],
   "source": [
    "PSS = [[0.0,0.3,0.7,0.0,0.0,0.0],\n",
    "       [0.0,0.3,0.7,0.0,0.0,0.0],\n",
    "       [0.4,0.0,0.0,0.6,0.0,0.0],\n",
    "       [0.0,0.0,0.0,0.0,0.6,0.4],\n",
    "       [0.0,0.0,0.0,0.0,1.0,0.0],\n",
    "       [0.0,0.0,0.0,0.0,0.0,1.0]]\n",
    "PSS = np.array(PSS)\n",
    "#\n",
    "DF = 0.9999\n",
    "A = I - DF*PSS\n",
    "\n",
    "svalArr  = linalg.solve(A,R)\n",
    "svalList = svalArr.tolist()\n",
    "[round(x,2) for x in svalList]"
   ]
  },
  {
   "cell_type": "code",
   "execution_count": 21,
   "metadata": {},
   "outputs": [
    {
     "data": {
      "text/plain": [
       "[4.05, 4.05, 2.62, 0.0, 0.0, 0.0]"
      ]
     },
     "execution_count": 21,
     "metadata": {},
     "output_type": "execute_result"
    }
   ],
   "source": [
    "pi = np.matmul(PSS, svalArr)\n",
    "[ round(x,2) for x in pi.tolist() ]"
   ]
  },
  {
   "cell_type": "code",
   "execution_count": 22,
   "metadata": {},
   "outputs": [
    {
     "data": {
      "text/plain": [
       "[2.43, 2.43, 4.93, 1.0, 0.0, 0.0]"
      ]
     },
     "execution_count": 22,
     "metadata": {},
     "output_type": "execute_result"
    }
   ],
   "source": [
    "PSS = [[0.3,0.0,0.0,0.7,0.0,0.0],\n",
    "       [0.3,0.0,0.0,0.7,0.0,0.0],\n",
    "       [0.0,0.4,0.6,0.0,0.0,0.0],\n",
    "       [0.0,0.0,0.0,0.0,0.0,0.0],\n",
    "       [0.0,0.0,0.0,0.0,1.0,0.0],\n",
    "       [0.0,0.0,0.0,0.0,0.0,1.0]]\n",
    "PSS = np.array(PSS)\n",
    "#\n",
    "DF = 0.9999\n",
    "A = I - DF*PSS\n",
    "\n",
    "svalArr  = linalg.solve(A,R)\n",
    "svalList = svalArr.tolist()\n",
    "[round(x,2) for x in svalArr]"
   ]
  },
  {
   "cell_type": "code",
   "execution_count": 23,
   "metadata": {},
   "outputs": [
    {
     "data": {
      "text/plain": [
       "[1.43, 1.43, 3.93, 0.0, 0.0, 0.0]"
      ]
     },
     "execution_count": 23,
     "metadata": {},
     "output_type": "execute_result"
    }
   ],
   "source": [
    "pi = np.matmul(PSS, svalArr)\n",
    "[ round(x,2) for x in pi.tolist() ]"
   ]
  },
  {
   "cell_type": "code",
   "execution_count": 24,
   "metadata": {},
   "outputs": [
    {
     "data": {
      "text/plain": [
       "[6.35, 3.61, 6.1, 1.0, 0.0, 0.0]"
      ]
     },
     "execution_count": 24,
     "metadata": {},
     "output_type": "execute_result"
    }
   ],
   "source": [
    "PSS = [[0.0,0.3,0.7,0.0,0.0,0.0],\n",
    "       [0.3,0.0,0.0,0.7,0.0,0.0],\n",
    "       [0.0,0.4,0.6,0.0,0.0,0.0],\n",
    "       [0.0,0.0,0.0,0.0,0.6,0.4],\n",
    "       [0.0,0.0,0.0,0.0,1.0,0.0],\n",
    "       [0.0,0.0,0.0,0.0,0.0,1.0]]\n",
    "PSS = np.array(PSS)\n",
    "#\n",
    "DF = 0.9999\n",
    "A = I - DF*PSS\n",
    "#\n",
    "sval = linalg.solve(A,R)\n",
    "sval = sval.tolist()\n",
    "[round(x,2) for x in sval]"
   ]
  },
  {
   "cell_type": "code",
   "execution_count": 25,
   "metadata": {},
   "outputs": [
    {
     "data": {
      "text/plain": [
       "[4.18, 1.43, 3.93, 0.0, 0.0, 0.0]"
      ]
     },
     "execution_count": 25,
     "metadata": {},
     "output_type": "execute_result"
    }
   ],
   "source": [
    "pi = np.matmul(PSS, svalArr)\n",
    "[ round(x,2) for x in pi.tolist() ]"
   ]
  },
  {
   "cell_type": "markdown",
   "metadata": {},
   "source": [
    "#### Example "
   ]
  },
  {
   "cell_type": "markdown",
   "metadata": {},
   "source": [
    "https://www.cs.princeton.edu/courses/archive/fall16/cos402/lectures/402-lec18.pdf"
   ]
  },
  {
   "cell_type": "code",
   "execution_count": 26,
   "metadata": {},
   "outputs": [],
   "source": [
    "S = ['FB', 'C', 'P', 'S']\n",
    "S = np.array(S)\n",
    "\n",
    "R = [-1, 2, 1, 0]\n",
    "R = np.array(R)\n",
    "\n",
    "dln = len(S)\n",
    "I = np.ones(dln*dln).reshape(dln,dln)\n",
    "I = np.diag( np.diag(I) )"
   ]
  },
  {
   "cell_type": "code",
   "execution_count": 27,
   "metadata": {},
   "outputs": [
    {
     "data": {
      "text/plain": [
       "[-1.65, 1.88, 1.47, 0.0]"
      ]
     },
     "execution_count": 27,
     "metadata": {},
     "output_type": "execute_result"
    }
   ],
   "source": [
    "PSS = [[0.9,0.1,0.0,0.0],\n",
    "       [0.5,0.0,0.4,0.1],\n",
    "       [0.0,0.5,0.0,0.5],\n",
    "       [0.0,0.0,0.0,1.0]]\n",
    "PSS = np.array(PSS)\n",
    "#\n",
    "DF = 0.5\n",
    "A = I - DF*PSS\n",
    "#\n",
    "sval = linalg.solve(A,R)\n",
    "sval = sval.tolist()\n",
    "[round(x,2) for x in sval]"
   ]
  },
  {
   "cell_type": "code",
   "execution_count": 28,
   "metadata": {},
   "outputs": [],
   "source": [
    "#C-C-FB-FB-S\n",
    "#g1 = 2 + 2*0.5 - 1*0.5**2 - 1*0.5**3 + 0*0.5**4\n",
    "#\n",
    "#C-FB-C-S\n",
    "#C-FB-FB-C-S\n",
    "#C-FB-FB-FB-C-S\n",
    "#C-FB-FB-FB-FB-C-S\n",
    "#C-FB-FB-FB-FB-C-P-S\n",
    "#C-FB-C-FB-C-S\n",
    "#C-P-S\n",
    "#C-P-C-S\n",
    "#C-FB-C-P-S\n",
    "#C-P-C-FB-C-S\n",
    "g01 = 2 - 1*0.5 + 2*0.5**2 + 0*0.5**4\n",
    "g02 = 2 - 1*0.5 - 1*0.5**2 + 2*0.5**3 + 0*0.5**4\n",
    "g03 = 2 - 1*0.5 - 1*0.5**2 - 1*0.5**3 + 2*0.5**4 + 0*0.5**5\n",
    "g04 = 2 - 1*0.5 - 1*0.5**2 - 1*0.5**3 - 1*0.5**4 + 2*0.5**5 + 0.*0.5**6\n",
    "g05 = 2 - 1*0.5 - 1*0.5**2 - 1*0.5**3 - 1*0.5**4 + 2*0.5**5 + 1*0.5**6 + 0.*0.5**7\n",
    "g06 = 2 - 1*0.5 + 2*0.5**2 - 1*0.5**3 + 2*0.5**4 + 0*0.5**5\n",
    "g07 = 2 + 1*0.5 + 0*0.5**2\n",
    "g08 = 2 + 1*0.5 + 2*0.5**2 + 0*0.5**3\n",
    "g09 = 2 - 1*0.5 + 2*0.5**2 + 1*0.5**3 + 0*0.5**4\n",
    "g10 = 2 + 1*0.5 + 2*0.5**2 - 1*0.5**3 + 2*0.5**4 + 0*0.5**5"
   ]
  },
  {
   "cell_type": "code",
   "execution_count": 29,
   "metadata": {},
   "outputs": [
    {
     "name": "stdout",
     "output_type": "stream",
     "text": [
      "[2.0, 1.5, 1.25, 1.12, 1.14, 2.0, 2.5, 3.0, 2.12, 3.0]\n",
      "1.9641\n"
     ]
    }
   ],
   "source": [
    "x = [g01,g02,g03,g04,g05,g06,g07,g08,g09,g10]\n",
    "print( [round(i,2) for i in x] )\n",
    "print( round(sum(x)/len(x),4) )"
   ]
  },
  {
   "cell_type": "code",
   "execution_count": 30,
   "metadata": {},
   "outputs": [],
   "source": [
    "pi = 0.25\n",
    "ps = 1\n",
    "v=0\n",
    "vt=0\n",
    "v1_1  = pi*(-1 + ps*v) + pi*(-1 + ps*v) + pi*(-1 + ps*vt) + pi*(-1 + ps*v)\n",
    "v2_1  = pi*(-1 + ps*v) + pi*(-1 + ps*v) + pi*(-1 + ps*v) + pi*(-1 + ps*v)\n",
    "v4_1  = pi*(-1 + ps*vt) + pi*(-1 + ps*v) + pi*(-1 + ps*v) + pi*(-1 + ps*v)"
   ]
  },
  {
   "cell_type": "code",
   "execution_count": 31,
   "metadata": {},
   "outputs": [
    {
     "name": "stdout",
     "output_type": "stream",
     "text": [
      "-1.0 -1.0 -1.0\n"
     ]
    }
   ],
   "source": [
    "print(v1_1, v2_1, v4_1)"
   ]
  },
  {
   "cell_type": "code",
   "execution_count": 32,
   "metadata": {},
   "outputs": [
    {
     "name": "stdout",
     "output_type": "stream",
     "text": [
      "-1.75 -2.0 -1.75\n"
     ]
    }
   ],
   "source": [
    "pi = 0.25\n",
    "ps = 1\n",
    "v=-1\n",
    "vt=0\n",
    "v1_2  = pi*(-1 + ps*v) + pi*(-1 + ps*v) + pi*(-1 + ps*vt) + pi*(-1 + ps*v)\n",
    "v2_2  = pi*(-1 + ps*v) + pi*(-1 + ps*v) + pi*(-1 + ps*v) + pi*(-1 + ps*v)\n",
    "v4_2  = pi*(-1 + ps*vt) + pi*(-1 + ps*v) + pi*(-1 + ps*v) + pi*(-1 + ps*v)\n",
    "print(v1_2, v2_2, v4_2)"
   ]
  },
  {
   "cell_type": "code",
   "execution_count": 33,
   "metadata": {},
   "outputs": [
    {
     "name": "stdout",
     "output_type": "stream",
     "text": [
      "-1.75 -2.0 -1.75\n"
     ]
    }
   ],
   "source": [
    "print(v1_2, v2_2, v4_2)"
   ]
  },
  {
   "cell_type": "code",
   "execution_count": 34,
   "metadata": {},
   "outputs": [
    {
     "name": "stdout",
     "output_type": "stream",
     "text": [
      "-2.4375 -3.0 -2.4375\n"
     ]
    }
   ],
   "source": [
    "pi = 0.25\n",
    "ps = 1\n",
    "v=-1.75\n",
    "v2=-2\n",
    "vt=0\n",
    "v1_3  = pi*(-1 + ps*v) + pi*(-1 + ps*v2) + pi*(-1 + ps*vt) + pi*(-1 + ps*v2)\n",
    "v2_3  = pi*(-1 + ps*v2) + pi*(-1 + ps*v2) + pi*(-1 + ps*v2) + pi*(-1 + ps*v2)\n",
    "v4_3  = pi*(-1 + ps*vt) + pi*(-1 + ps*v2) + pi*(-1 + ps*v) + pi*(-1 + ps*v2)\n",
    "print(v1_3, v2_3, v4_3)"
   ]
  }
 ],
 "metadata": {
  "kernelspec": {
   "display_name": "Python 3",
   "language": "python",
   "name": "python3"
  },
  "language_info": {
   "codemirror_mode": {
    "name": "ipython",
    "version": 3
   },
   "file_extension": ".py",
   "mimetype": "text/x-python",
   "name": "python",
   "nbconvert_exporter": "python",
   "pygments_lexer": "ipython3",
   "version": "3.9.13"
  }
 },
 "nbformat": 4,
 "nbformat_minor": 4
}
